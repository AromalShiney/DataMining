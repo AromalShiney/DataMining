{
 "cells": [
  {
   "attachments": {},
   "cell_type": "markdown",
   "metadata": {},
   "source": [
    "<h2>\n",
    "Team leader: Jiaqin Kang<br>\n",
    "Student ID: 33656491<br>\n",
    "Team member : Aromal Shiney<br>\n",
    "student id: 33659221<br>\n",
    "</h2>"
   ]
  },
  {
   "attachments": {},
   "cell_type": "markdown",
   "metadata": {},
   "source": [
    "# Part 1: A\n",
    "<p> The task given was to create a Simple Nearest Neighbour algorithm with Minkowski distance that would successfully classify on the Sonar data and would seperate Rocks from Metals.After classifying the records on the test data, record its precision, accuracy, recall and F1 measure with respect to class \"M\". The algorithm should be able to produce results for Manhatten Distance and Euclidian Distance based on Minkowski power q.</p>\n"
   ]
  },
  {
   "cell_type": "code",
   "execution_count": 1,
   "metadata": {},
   "outputs": [],
   "source": [
    "import pandas as pd\n",
    "import numpy as np\n",
    "\n",
    "df = pd.read_csv('sonar_train.csv')\n",
    "df2 = pd.read_csv('sonar_test.csv')"
   ]
  },
  {
   "attachments": {},
   "cell_type": "markdown",
   "metadata": {},
   "source": [
    "<p> The code above creates two dataframes for both training set and test set using the pandas library. These dataframes will be used for data cleaning,preprocessing and building predictive models.</p>"
   ]
  },
  {
   "cell_type": "code",
   "execution_count": 2,
   "metadata": {},
   "outputs": [
    {
     "data": {
      "text/html": [
       "<div>\n",
       "<style scoped>\n",
       "    .dataframe tbody tr th:only-of-type {\n",
       "        vertical-align: middle;\n",
       "    }\n",
       "\n",
       "    .dataframe tbody tr th {\n",
       "        vertical-align: top;\n",
       "    }\n",
       "\n",
       "    .dataframe thead th {\n",
       "        text-align: right;\n",
       "    }\n",
       "</style>\n",
       "<table border=\"1\" class=\"dataframe\">\n",
       "  <thead>\n",
       "    <tr style=\"text-align: right;\">\n",
       "      <th></th>\n",
       "      <th>A1</th>\n",
       "      <th>A2</th>\n",
       "      <th>A3</th>\n",
       "      <th>A4</th>\n",
       "      <th>A5</th>\n",
       "      <th>A6</th>\n",
       "      <th>A7</th>\n",
       "      <th>A8</th>\n",
       "      <th>A9</th>\n",
       "      <th>A10</th>\n",
       "      <th>...</th>\n",
       "      <th>A52</th>\n",
       "      <th>A53</th>\n",
       "      <th>A54</th>\n",
       "      <th>A55</th>\n",
       "      <th>A56</th>\n",
       "      <th>A57</th>\n",
       "      <th>A58</th>\n",
       "      <th>A59</th>\n",
       "      <th>A60</th>\n",
       "      <th>Class</th>\n",
       "    </tr>\n",
       "  </thead>\n",
       "  <tbody>\n",
       "    <tr>\n",
       "      <th>0</th>\n",
       "      <td>0.0079</td>\n",
       "      <td>0.0086</td>\n",
       "      <td>0.0055</td>\n",
       "      <td>0.0250</td>\n",
       "      <td>0.0344</td>\n",
       "      <td>0.0546</td>\n",
       "      <td>0.0528</td>\n",
       "      <td>0.0958</td>\n",
       "      <td>0.1009</td>\n",
       "      <td>0.1240</td>\n",
       "      <td>...</td>\n",
       "      <td>0.0176</td>\n",
       "      <td>0.0127</td>\n",
       "      <td>0.0088</td>\n",
       "      <td>0.0098</td>\n",
       "      <td>0.0019</td>\n",
       "      <td>0.0059</td>\n",
       "      <td>0.0058</td>\n",
       "      <td>0.0059</td>\n",
       "      <td>0.0032</td>\n",
       "      <td>R</td>\n",
       "    </tr>\n",
       "    <tr>\n",
       "      <th>1</th>\n",
       "      <td>0.0599</td>\n",
       "      <td>0.0474</td>\n",
       "      <td>0.0498</td>\n",
       "      <td>0.0387</td>\n",
       "      <td>0.1026</td>\n",
       "      <td>0.0773</td>\n",
       "      <td>0.0853</td>\n",
       "      <td>0.0447</td>\n",
       "      <td>0.1094</td>\n",
       "      <td>0.0351</td>\n",
       "      <td>...</td>\n",
       "      <td>0.0013</td>\n",
       "      <td>0.0005</td>\n",
       "      <td>0.0227</td>\n",
       "      <td>0.0209</td>\n",
       "      <td>0.0081</td>\n",
       "      <td>0.0117</td>\n",
       "      <td>0.0114</td>\n",
       "      <td>0.0112</td>\n",
       "      <td>0.0100</td>\n",
       "      <td>M</td>\n",
       "    </tr>\n",
       "    <tr>\n",
       "      <th>2</th>\n",
       "      <td>0.0093</td>\n",
       "      <td>0.0269</td>\n",
       "      <td>0.0217</td>\n",
       "      <td>0.0339</td>\n",
       "      <td>0.0305</td>\n",
       "      <td>0.1172</td>\n",
       "      <td>0.1450</td>\n",
       "      <td>0.0638</td>\n",
       "      <td>0.0740</td>\n",
       "      <td>0.1360</td>\n",
       "      <td>...</td>\n",
       "      <td>0.0212</td>\n",
       "      <td>0.0091</td>\n",
       "      <td>0.0056</td>\n",
       "      <td>0.0086</td>\n",
       "      <td>0.0092</td>\n",
       "      <td>0.0070</td>\n",
       "      <td>0.0116</td>\n",
       "      <td>0.0060</td>\n",
       "      <td>0.0110</td>\n",
       "      <td>R</td>\n",
       "    </tr>\n",
       "    <tr>\n",
       "      <th>3</th>\n",
       "      <td>0.0151</td>\n",
       "      <td>0.0320</td>\n",
       "      <td>0.0599</td>\n",
       "      <td>0.1050</td>\n",
       "      <td>0.1163</td>\n",
       "      <td>0.1734</td>\n",
       "      <td>0.1679</td>\n",
       "      <td>0.1119</td>\n",
       "      <td>0.0889</td>\n",
       "      <td>0.1205</td>\n",
       "      <td>...</td>\n",
       "      <td>0.0061</td>\n",
       "      <td>0.0015</td>\n",
       "      <td>0.0084</td>\n",
       "      <td>0.0128</td>\n",
       "      <td>0.0054</td>\n",
       "      <td>0.0011</td>\n",
       "      <td>0.0019</td>\n",
       "      <td>0.0023</td>\n",
       "      <td>0.0062</td>\n",
       "      <td>R</td>\n",
       "    </tr>\n",
       "    <tr>\n",
       "      <th>4</th>\n",
       "      <td>0.0317</td>\n",
       "      <td>0.0956</td>\n",
       "      <td>0.1321</td>\n",
       "      <td>0.1408</td>\n",
       "      <td>0.1674</td>\n",
       "      <td>0.1710</td>\n",
       "      <td>0.0731</td>\n",
       "      <td>0.1401</td>\n",
       "      <td>0.2083</td>\n",
       "      <td>0.3513</td>\n",
       "      <td>...</td>\n",
       "      <td>0.0201</td>\n",
       "      <td>0.0248</td>\n",
       "      <td>0.0131</td>\n",
       "      <td>0.0070</td>\n",
       "      <td>0.0138</td>\n",
       "      <td>0.0092</td>\n",
       "      <td>0.0143</td>\n",
       "      <td>0.0036</td>\n",
       "      <td>0.0103</td>\n",
       "      <td>R</td>\n",
       "    </tr>\n",
       "  </tbody>\n",
       "</table>\n",
       "<p>5 rows × 61 columns</p>\n",
       "</div>"
      ],
      "text/plain": [
       "       A1      A2      A3      A4      A5      A6      A7      A8      A9  \\\n",
       "0  0.0079  0.0086  0.0055  0.0250  0.0344  0.0546  0.0528  0.0958  0.1009   \n",
       "1  0.0599  0.0474  0.0498  0.0387  0.1026  0.0773  0.0853  0.0447  0.1094   \n",
       "2  0.0093  0.0269  0.0217  0.0339  0.0305  0.1172  0.1450  0.0638  0.0740   \n",
       "3  0.0151  0.0320  0.0599  0.1050  0.1163  0.1734  0.1679  0.1119  0.0889   \n",
       "4  0.0317  0.0956  0.1321  0.1408  0.1674  0.1710  0.0731  0.1401  0.2083   \n",
       "\n",
       "      A10  ...     A52     A53     A54     A55     A56     A57     A58  \\\n",
       "0  0.1240  ...  0.0176  0.0127  0.0088  0.0098  0.0019  0.0059  0.0058   \n",
       "1  0.0351  ...  0.0013  0.0005  0.0227  0.0209  0.0081  0.0117  0.0114   \n",
       "2  0.1360  ...  0.0212  0.0091  0.0056  0.0086  0.0092  0.0070  0.0116   \n",
       "3  0.1205  ...  0.0061  0.0015  0.0084  0.0128  0.0054  0.0011  0.0019   \n",
       "4  0.3513  ...  0.0201  0.0248  0.0131  0.0070  0.0138  0.0092  0.0143   \n",
       "\n",
       "      A59     A60  Class  \n",
       "0  0.0059  0.0032      R  \n",
       "1  0.0112  0.0100      M  \n",
       "2  0.0060  0.0110      R  \n",
       "3  0.0023  0.0062      R  \n",
       "4  0.0036  0.0103      R  \n",
       "\n",
       "[5 rows x 61 columns]"
      ]
     },
     "execution_count": 2,
     "metadata": {},
     "output_type": "execute_result"
    }
   ],
   "source": [
    "df.head()"
   ]
  },
  {
   "cell_type": "code",
   "execution_count": 3,
   "metadata": {},
   "outputs": [
    {
     "data": {
      "text/html": [
       "<div>\n",
       "<style scoped>\n",
       "    .dataframe tbody tr th:only-of-type {\n",
       "        vertical-align: middle;\n",
       "    }\n",
       "\n",
       "    .dataframe tbody tr th {\n",
       "        vertical-align: top;\n",
       "    }\n",
       "\n",
       "    .dataframe thead th {\n",
       "        text-align: right;\n",
       "    }\n",
       "</style>\n",
       "<table border=\"1\" class=\"dataframe\">\n",
       "  <thead>\n",
       "    <tr style=\"text-align: right;\">\n",
       "      <th></th>\n",
       "      <th>A1</th>\n",
       "      <th>A2</th>\n",
       "      <th>A3</th>\n",
       "      <th>A4</th>\n",
       "      <th>A5</th>\n",
       "      <th>A6</th>\n",
       "      <th>A7</th>\n",
       "      <th>A8</th>\n",
       "      <th>A9</th>\n",
       "      <th>A10</th>\n",
       "      <th>...</th>\n",
       "      <th>A52</th>\n",
       "      <th>A53</th>\n",
       "      <th>A54</th>\n",
       "      <th>A55</th>\n",
       "      <th>A56</th>\n",
       "      <th>A57</th>\n",
       "      <th>A58</th>\n",
       "      <th>A59</th>\n",
       "      <th>A60</th>\n",
       "      <th>Class</th>\n",
       "    </tr>\n",
       "  </thead>\n",
       "  <tbody>\n",
       "    <tr>\n",
       "      <th>0</th>\n",
       "      <td>0.0125</td>\n",
       "      <td>0.0152</td>\n",
       "      <td>0.0218</td>\n",
       "      <td>0.0175</td>\n",
       "      <td>0.0362</td>\n",
       "      <td>0.0696</td>\n",
       "      <td>0.0873</td>\n",
       "      <td>0.0616</td>\n",
       "      <td>0.1252</td>\n",
       "      <td>0.1302</td>\n",
       "      <td>...</td>\n",
       "      <td>0.0041</td>\n",
       "      <td>0.0074</td>\n",
       "      <td>0.0030</td>\n",
       "      <td>0.0050</td>\n",
       "      <td>0.0048</td>\n",
       "      <td>0.0017</td>\n",
       "      <td>0.0041</td>\n",
       "      <td>0.0086</td>\n",
       "      <td>0.0058</td>\n",
       "      <td>R</td>\n",
       "    </tr>\n",
       "    <tr>\n",
       "      <th>1</th>\n",
       "      <td>0.0530</td>\n",
       "      <td>0.0885</td>\n",
       "      <td>0.1997</td>\n",
       "      <td>0.2604</td>\n",
       "      <td>0.3225</td>\n",
       "      <td>0.2247</td>\n",
       "      <td>0.0617</td>\n",
       "      <td>0.2287</td>\n",
       "      <td>0.0950</td>\n",
       "      <td>0.0740</td>\n",
       "      <td>...</td>\n",
       "      <td>0.0244</td>\n",
       "      <td>0.0199</td>\n",
       "      <td>0.0257</td>\n",
       "      <td>0.0082</td>\n",
       "      <td>0.0151</td>\n",
       "      <td>0.0171</td>\n",
       "      <td>0.0146</td>\n",
       "      <td>0.0134</td>\n",
       "      <td>0.0056</td>\n",
       "      <td>M</td>\n",
       "    </tr>\n",
       "    <tr>\n",
       "      <th>2</th>\n",
       "      <td>0.0368</td>\n",
       "      <td>0.0279</td>\n",
       "      <td>0.0103</td>\n",
       "      <td>0.0566</td>\n",
       "      <td>0.0759</td>\n",
       "      <td>0.0679</td>\n",
       "      <td>0.0970</td>\n",
       "      <td>0.1473</td>\n",
       "      <td>0.2164</td>\n",
       "      <td>0.2544</td>\n",
       "      <td>...</td>\n",
       "      <td>0.0105</td>\n",
       "      <td>0.0024</td>\n",
       "      <td>0.0018</td>\n",
       "      <td>0.0057</td>\n",
       "      <td>0.0092</td>\n",
       "      <td>0.0009</td>\n",
       "      <td>0.0086</td>\n",
       "      <td>0.0110</td>\n",
       "      <td>0.0052</td>\n",
       "      <td>M</td>\n",
       "    </tr>\n",
       "    <tr>\n",
       "      <th>3</th>\n",
       "      <td>0.0164</td>\n",
       "      <td>0.0173</td>\n",
       "      <td>0.0347</td>\n",
       "      <td>0.0070</td>\n",
       "      <td>0.0187</td>\n",
       "      <td>0.0671</td>\n",
       "      <td>0.1056</td>\n",
       "      <td>0.0697</td>\n",
       "      <td>0.0962</td>\n",
       "      <td>0.0251</td>\n",
       "      <td>...</td>\n",
       "      <td>0.0090</td>\n",
       "      <td>0.0223</td>\n",
       "      <td>0.0179</td>\n",
       "      <td>0.0084</td>\n",
       "      <td>0.0068</td>\n",
       "      <td>0.0032</td>\n",
       "      <td>0.0035</td>\n",
       "      <td>0.0056</td>\n",
       "      <td>0.0040</td>\n",
       "      <td>R</td>\n",
       "    </tr>\n",
       "    <tr>\n",
       "      <th>4</th>\n",
       "      <td>0.0216</td>\n",
       "      <td>0.0124</td>\n",
       "      <td>0.0174</td>\n",
       "      <td>0.0152</td>\n",
       "      <td>0.0608</td>\n",
       "      <td>0.1026</td>\n",
       "      <td>0.1139</td>\n",
       "      <td>0.0877</td>\n",
       "      <td>0.1160</td>\n",
       "      <td>0.0866</td>\n",
       "      <td>...</td>\n",
       "      <td>0.0052</td>\n",
       "      <td>0.0049</td>\n",
       "      <td>0.0096</td>\n",
       "      <td>0.0134</td>\n",
       "      <td>0.0122</td>\n",
       "      <td>0.0047</td>\n",
       "      <td>0.0018</td>\n",
       "      <td>0.0006</td>\n",
       "      <td>0.0023</td>\n",
       "      <td>R</td>\n",
       "    </tr>\n",
       "  </tbody>\n",
       "</table>\n",
       "<p>5 rows × 61 columns</p>\n",
       "</div>"
      ],
      "text/plain": [
       "       A1      A2      A3      A4      A5      A6      A7      A8      A9  \\\n",
       "0  0.0125  0.0152  0.0218  0.0175  0.0362  0.0696  0.0873  0.0616  0.1252   \n",
       "1  0.0530  0.0885  0.1997  0.2604  0.3225  0.2247  0.0617  0.2287  0.0950   \n",
       "2  0.0368  0.0279  0.0103  0.0566  0.0759  0.0679  0.0970  0.1473  0.2164   \n",
       "3  0.0164  0.0173  0.0347  0.0070  0.0187  0.0671  0.1056  0.0697  0.0962   \n",
       "4  0.0216  0.0124  0.0174  0.0152  0.0608  0.1026  0.1139  0.0877  0.1160   \n",
       "\n",
       "      A10  ...     A52     A53     A54     A55     A56     A57     A58  \\\n",
       "0  0.1302  ...  0.0041  0.0074  0.0030  0.0050  0.0048  0.0017  0.0041   \n",
       "1  0.0740  ...  0.0244  0.0199  0.0257  0.0082  0.0151  0.0171  0.0146   \n",
       "2  0.2544  ...  0.0105  0.0024  0.0018  0.0057  0.0092  0.0009  0.0086   \n",
       "3  0.0251  ...  0.0090  0.0223  0.0179  0.0084  0.0068  0.0032  0.0035   \n",
       "4  0.0866  ...  0.0052  0.0049  0.0096  0.0134  0.0122  0.0047  0.0018   \n",
       "\n",
       "      A59     A60  Class  \n",
       "0  0.0086  0.0058      R  \n",
       "1  0.0134  0.0056      M  \n",
       "2  0.0110  0.0052      M  \n",
       "3  0.0056  0.0040      R  \n",
       "4  0.0006  0.0023      R  \n",
       "\n",
       "[5 rows x 61 columns]"
      ]
     },
     "execution_count": 3,
     "metadata": {},
     "output_type": "execute_result"
    }
   ],
   "source": [
    "df2.head()"
   ]
  },
  {
   "attachments": {},
   "cell_type": "markdown",
   "metadata": {},
   "source": [
    "<p> The code blocks above displays the first 5 rows of the training dataset and test data. By displaying the datasets we are able to see the structure of the dataset and the class labels. This code block is particularly useful to ensure that the dataset is loaded correctly.</p>"
   ]
  },
  {
   "cell_type": "code",
   "execution_count": 4,
   "metadata": {},
   "outputs": [
    {
     "data": {
      "text/plain": [
       "(139, 61)"
      ]
     },
     "execution_count": 4,
     "metadata": {},
     "output_type": "execute_result"
    }
   ],
   "source": [
    "df.shape"
   ]
  },
  {
   "cell_type": "code",
   "execution_count": 5,
   "metadata": {},
   "outputs": [
    {
     "data": {
      "text/plain": [
       "(69, 61)"
      ]
     },
     "execution_count": 5,
     "metadata": {},
     "output_type": "execute_result"
    }
   ],
   "source": [
    "df2.shape"
   ]
  },
  {
   "attachments": {},
   "cell_type": "markdown",
   "metadata": {},
   "source": [
    "<p> The code blocks above checks the shape of both training and test dataset. The code returns the number of rows and columns of each set.</p>"
   ]
  },
  {
   "attachments": {},
   "cell_type": "markdown",
   "metadata": {},
   "source": [
    "## Data Cleansing and Preprocessing"
   ]
  },
  {
   "cell_type": "code",
   "execution_count": 6,
   "metadata": {},
   "outputs": [
    {
     "data": {
      "text/plain": [
       "A1       0\n",
       "A2       0\n",
       "A3       0\n",
       "A4       0\n",
       "A5       0\n",
       "        ..\n",
       "A57      0\n",
       "A58      0\n",
       "A59      0\n",
       "A60      0\n",
       "Class    0\n",
       "Length: 61, dtype: int64"
      ]
     },
     "execution_count": 6,
     "metadata": {},
     "output_type": "execute_result"
    }
   ],
   "source": [
    "#check for null values\n",
    "df.isnull().sum()"
   ]
  },
  {
   "cell_type": "code",
   "execution_count": 7,
   "metadata": {},
   "outputs": [
    {
     "data": {
      "text/plain": [
       "A1       0\n",
       "A2       0\n",
       "A3       0\n",
       "A4       0\n",
       "A5       0\n",
       "        ..\n",
       "A57      0\n",
       "A58      0\n",
       "A59      0\n",
       "A60      0\n",
       "Class    0\n",
       "Length: 61, dtype: int64"
      ]
     },
     "execution_count": 7,
     "metadata": {},
     "output_type": "execute_result"
    }
   ],
   "source": [
    "df2.isnull().sum()\n"
   ]
  },
  {
   "attachments": {},
   "cell_type": "markdown",
   "metadata": {},
   "source": [
    "<p> The next step will be to check if the datasets need to be cleansed from null values,duplicated values, handling outliers, transforming categorical data. The code blocks above checks for null values in the dataset.</p>"
   ]
  },
  {
   "attachments": {},
   "cell_type": "markdown",
   "metadata": {},
   "source": [
    "### Seperation of Predictors and Target Variable"
   ]
  },
  {
   "cell_type": "code",
   "execution_count": 8,
   "metadata": {},
   "outputs": [],
   "source": [
    "x_train = df.drop('Class', axis=1)\n",
    "y_train = df['Class']\n"
   ]
  },
  {
   "cell_type": "code",
   "execution_count": 9,
   "metadata": {},
   "outputs": [],
   "source": [
    "x_test = df2.drop('Class', axis=1)\n",
    "y_test = df2['Class']"
   ]
  },
  {
   "attachments": {},
   "cell_type": "markdown",
   "metadata": {},
   "source": [
    "<p> The code blocks above is splitting the x_train(the predictors) from the y_train(the target variable) on both datasets. After dropping the target variable called \"class\" from x_train, a new object variable is created to fill the labels(\"class\") called y_train.</p>"
   ]
  },
  {
   "attachments": {},
   "cell_type": "markdown",
   "metadata": {},
   "source": [
    "## Feature Scaling\n",
    "<p>Feature Scaling is a Machine Learning technique that is used to standardise the range of independent variables in the dataset. This is an important prepreocessing task because some of the algorithms require scaled input features to give acccurate results. We have chossen to use the default StandardScaler from the sklearn's library to scale the x_train and x_test values. Using the StandardScaler() function we can transform any mean and variance units into a scale. The code below demonstrates the steps.</p>"
   ]
  },
  {
   "cell_type": "code",
   "execution_count": 10,
   "metadata": {},
   "outputs": [],
   "source": [
    "#scale the x values\n",
    "from sklearn.preprocessing import StandardScaler\n",
    "scaler = StandardScaler()\n",
    "x_train = scaler.fit_transform(x_train)\n",
    "x_test = scaler.transform(x_test)"
   ]
  },
  {
   "cell_type": "code",
   "execution_count": 11,
   "metadata": {},
   "outputs": [
    {
     "data": {
      "text/plain": [
       "array([[-0.93165451, -0.8731433 , -0.94288121, ..., -0.33592537,\n",
       "        -0.32740932, -0.73095381],\n",
       "       [ 1.37735619,  0.30647505,  0.21154975, ...,  0.49024938,\n",
       "         0.55903847,  0.75325143],\n",
       "       [-0.86948884, -0.31677691, -0.5207191 , ...,  0.51975562,\n",
       "        -0.31068389,  0.97151691],\n",
       "       ...,\n",
       "       [-1.21584044, -0.56911795, -0.33309149, ..., -1.04407515,\n",
       "        -0.77899592, -0.40355559],\n",
       "       [ 0.54256001, -0.29245489,  0.48777928, ..., -0.45395033,\n",
       "         0.10745186, -0.46903524],\n",
       "       [-0.08353712, -0.63904378, -0.19758267, ...,  0.19518697,\n",
       "         0.44196046,  0.6004656 ]])"
      ]
     },
     "execution_count": 11,
     "metadata": {},
     "output_type": "execute_result"
    }
   ],
   "source": [
    "x_train"
   ]
  },
  {
   "cell_type": "code",
   "execution_count": 12,
   "metadata": {},
   "outputs": [
    {
     "data": {
      "text/plain": [
       "array([[-0.72739587, -0.67248657, -0.51811316, ..., -0.58672841,\n",
       "         0.12417729, -0.16346357],\n",
       "       [ 1.07096823,  1.55601922,  4.11785224, ...,  0.96234923,\n",
       "         0.92699793, -0.20711666],\n",
       "       [ 0.35162259, -0.28637438, -0.81779614, ...,  0.077162  ,\n",
       "         0.52558761, -0.29442285],\n",
       "       ...,\n",
       "       [ 0.08519828, -0.10395917, -0.55980818, ...,  0.60827434,\n",
       "        -0.37758561, -0.99287238],\n",
       "       [ 1.05320661,  0.57705761,  2.09043173, ...,  0.32796505,\n",
       "         4.77384682,  3.11051858],\n",
       "       [-0.47873318, -0.69072809, -1.01845344, ..., -0.48345657,\n",
       "         0.17435358,  0.42585322]])"
      ]
     },
     "execution_count": 12,
     "metadata": {},
     "output_type": "execute_result"
    }
   ],
   "source": [
    "x_test"
   ]
  },
  {
   "cell_type": "code",
   "execution_count": 13,
   "metadata": {},
   "outputs": [
    {
     "name": "stdout",
     "output_type": "stream",
     "text": [
      "(139, 60)\n",
      "(139,)\n",
      "(69, 60)\n",
      "(69,)\n"
     ]
    }
   ],
   "source": [
    "print(x_train.shape)\n",
    "print(y_train.shape)\n",
    "print(x_test.shape)\n",
    "print(y_test.shape)"
   ]
  },
  {
   "attachments": {},
   "cell_type": "markdown",
   "metadata": {},
   "source": [
    "<p> The code above prints the shape of the newly transformed x_train and x_test to ensure that they are having the same shapes so that they can be fed to the Machine Learning Algorithms.</p>"
   ]
  },
  {
   "attachments": {},
   "cell_type": "markdown",
   "metadata": {},
   "source": [
    "### Handling Categorical Data\n",
    "<p> Handling Categorical Data is an important part of data prepreocesing. We have categorical data in our dataset. The last column \"class\" in our dataset denotes a categorical data. This column must be converted into numerical values so they are correcly interpreted by the algorithms. There are several ways to encode the categorical data into numerical values. We are using scikit-learn's LabelEncoder function. With the help of this function we are able to convert the \"class\" category into numerical values. Each of the Rock instances will now have \"0\" and Metals will have \"1\" assigned to them. </p>"
   ]
  },
  {
   "cell_type": "code",
   "execution_count": 14,
   "metadata": {},
   "outputs": [],
   "source": [
    "# label encoding y\n",
    "from sklearn.preprocessing import LabelEncoder\n",
    "le = LabelEncoder()\n",
    "y_train = le.fit_transform(y_train)\n",
    "y_test = le.transform(y_test)"
   ]
  },
  {
   "attachments": {},
   "cell_type": "markdown",
   "metadata": {},
   "source": [
    "###  create a simple Nearest Neighbour algorithm with Minkowski Distance with power of Q "
   ]
  },
  {
   "cell_type": "code",
   "execution_count": 15,
   "metadata": {},
   "outputs": [],
   "source": [
    "# cereating the minikowski distance function\n",
    "#d(x,y) = (∑|xi-yi|^p)^(1/p)\n",
    "def minkowski_distance(x, y, p):\n",
    "    #\"zip(x,y)\" = pairs up the elements of \"x\" and \"y\" for each corresponding index creating a new iteratiable tuple\n",
    "    #The \"for\" loop iterates the two tuples produced by the \"zip\" assigning \"i\" th element of \"x\" and \"xi\" and the \"i\" th element of \"y\" to \"yi\"\n",
    "    #The expression of \"abs(xi-yi)**p\" computes the absolute distance between the \"i\" th element of \"x\" and \"y\" raised by the power of \"p\"\n",
    "    #The \"sum\" function adds up all the values to produce the final value of the distance\n",
    "    distance =  (sum(abs(xi-yi)**p for xi, yi in zip(x,y))) # calculating the distance between x and y\n",
    "    distance = distance ** (1/p) # raise the distance to the power of 1/p\n",
    "    return distance # return the distance"
   ]
  },
  {
   "attachments": {},
   "cell_type": "markdown",
   "metadata": {},
   "source": [
    "<p> The code block above computes the minkowski distance between two datapoints(x and y) using p which is the order of the distance metric. Minkowski Distance is a distance metric that generalises both Euclidian and Manahatten distance. Minkowski distance calculates the distance between two data points in n dimensional space. As the value of \"p\" changes the distance measure is also changed. when p = 1, we are measuring in Manhatten Distance whereas when p = 2, it is set to Euclidian Distance.</p>"
   ]
  },
  {
   "cell_type": "code",
   "execution_count": 16,
   "metadata": {},
   "outputs": [],
   "source": [
    "# creating the Nearest Neighbour Algorithm\n",
    "def nearest_neighbour(x_train, x_test, y_train,  q):\n",
    "    y_pred = [] # creating an empty list to store the predicted values\n",
    "    # for each row in the test set\n",
    "    for i in range(len(x_test)):\n",
    "        distances = []\n",
    "        # for each row in the training set\n",
    "        for j in range(len(x_train)):\n",
    "            distance = minkowski_distance(x_test[i], x_train[j],p = q ) # calculate the distance between the test and training set\n",
    "            distances.append(distance) # append the distance to the list\n",
    "         #get the indices for the knn\n",
    "        indices = np.argsort(distances)[:q]\n",
    "        #get the corresponding labels for the knn\n",
    "        labels = y_train[indices]\n",
    "        #predict the lables on the test set\n",
    "        predict_label =  np.argmax(np.bincount(labels))\n",
    "        y_pred.append(predict_label)\n",
    "    return y_pred"
   ]
  },
  {
   "attachments": {},
   "cell_type": "markdown",
   "metadata": {},
   "source": [
    "<p> The code block above implements the Simplest Nearest Neighbour algorithm. This algorithm takes four paraemeters, these paraemeters are used to make perdictions on the test set.</p>"
   ]
  },
  {
   "attachments": {},
   "cell_type": "markdown",
   "metadata": {},
   "source": [
    "### Manhattan Distance\n",
    "<p> Manhattan Distance is a metric used to measure the distance between two data points with respective of the sum of absolute differences of the Cartesian coordinates.</p>"
   ]
  },
  {
   "cell_type": "code",
   "execution_count": 17,
   "metadata": {},
   "outputs": [],
   "source": [
    "q= 1 # manhatten distance\n",
    "y_pred = nearest_neighbour(x_train, x_test, y_train, q) "
   ]
  },
  {
   "attachments": {},
   "cell_type": "markdown",
   "metadata": {},
   "source": [
    "<p> The code block above executes the Simplest Nearest Neighbour algorithm using the Manhatten Distance</p>"
   ]
  },
  {
   "cell_type": "code",
   "execution_count": 18,
   "metadata": {},
   "outputs": [
    {
     "name": "stdout",
     "output_type": "stream",
     "text": [
      "[1, 0, 0, 1, 1, 0, 0, 0, 0, 0, 1, 1, 1, 1, 0, 0, 0, 1, 0, 0, 0, 1, 1, 1, 1, 0, 1, 1, 0, 0, 0, 0, 0, 1, 0, 0, 0, 0, 0, 1, 1, 0, 0, 0, 1, 1, 1, 0, 1, 1, 0, 1, 1, 0, 0, 1, 0, 1, 0, 0, 0, 0, 0, 1, 0, 0, 1, 0, 1]\n"
     ]
    }
   ],
   "source": [
    "print(y_pred)"
   ]
  },
  {
   "cell_type": "code",
   "execution_count": 19,
   "metadata": {},
   "outputs": [],
   "source": [
    "x1 = pd.DataFrame({'True': y_test, 'Predicted': y_pred})\n",
    "x2 = pd.crosstab(x1['True'], x1['Predicted'])"
   ]
  },
  {
   "attachments": {},
   "cell_type": "markdown",
   "metadata": {},
   "source": [
    "<p> Using the pandas dataframe we are creating two arrays \"y_test\" and \"y_pred\". The \"y_test\" array contains the true class labels for the test set. whereas the \"y_pred\" array contains the predicted class labels. The pandas crosstab is used to create contingency table for the true and predicted labels.</p>"
   ]
  },
  {
   "cell_type": "code",
   "execution_count": 20,
   "metadata": {},
   "outputs": [
    {
     "name": "stdout",
     "output_type": "stream",
     "text": [
      "    True  Predicted\n",
      "0      1          1\n",
      "1      0          0\n",
      "2      0          0\n",
      "3      1          1\n",
      "4      1          1\n",
      "..   ...        ...\n",
      "64     0          0\n",
      "65     0          0\n",
      "66     1          1\n",
      "67     0          0\n",
      "68     1          1\n",
      "\n",
      "[69 rows x 2 columns]\n"
     ]
    }
   ],
   "source": [
    "print(x1)"
   ]
  },
  {
   "cell_type": "code",
   "execution_count": 21,
   "metadata": {},
   "outputs": [
    {
     "name": "stdout",
     "output_type": "stream",
     "text": [
      "Predicted   0   1\n",
      "True             \n",
      "0          36   1\n",
      "1           4  28\n"
     ]
    }
   ],
   "source": [
    "print(x2)"
   ]
  },
  {
   "cell_type": "code",
   "execution_count": 22,
   "metadata": {},
   "outputs": [
    {
     "data": {
      "image/png": "[encoded data removed]",
      "text/plain": [
       "<Figure size 640x480 with 2 Axes>"
      ]
     },
     "metadata": {},
     "output_type": "display_data"
    }
   ],
   "source": [
    "# create a heatmap for the confusion matrix\n",
    "import seaborn as sns\n",
    "import matplotlib.pyplot as plt\n",
    "sns.heatmap(x2, annot=True, cmap='Blues')\n",
    "plt.show()\n"
   ]
  },
  {
   "attachments": {},
   "cell_type": "markdown",
   "metadata": {},
   "source": [
    "<p> Using the Seaborn library to visualise the confusion matrix of true and predicted variables.</p>"
   ]
  },
  {
   "cell_type": "code",
   "execution_count": 23,
   "metadata": {},
   "outputs": [
    {
     "name": "stdout",
     "output_type": "stream",
     "text": [
      "TP:  36\n",
      "TN:  28\n",
      "FP:  4\n",
      "FN:  1\n"
     ]
    }
   ],
   "source": [
    "# get the TP, TN, FP, FN\n",
    "TP = x2.iloc[0,0]\n",
    "TN = x2.iloc[1,1]\n",
    "FP = x2.iloc[1,0]\n",
    "FN = x2.iloc[0,1]\n",
    "print(\"TP: \", TP)\n",
    "print(\"TN: \", TN)\n",
    "print(\"FP: \", FP)\n",
    "print(\"FN: \", FN)"
   ]
  },
  {
   "cell_type": "code",
   "execution_count": 24,
   "metadata": {},
   "outputs": [
    {
     "name": "stdout",
     "output_type": "stream",
     "text": [
      "Precision:  0.9\n",
      "Recall:  0.972972972972973\n",
      "F1-Score:  0.935064935064935\n",
      "Accuracy:  0.927536231884058\n"
     ]
    }
   ],
   "source": [
    "# calcuate the precision, recall, f1-score and accuracy\n",
    "precision = TP/(TP+FP)\n",
    "recall = TP/(TP+FN)\n",
    "f1_score = 2*(precision*recall)/(precision+recall)\n",
    "accuracy = (TP+TN)/(TP+TN+FP+FN)\n",
    "print(\"Precision: \", precision)\n",
    "print(\"Recall: \", recall)\n",
    "print(\"F1-Score: \", f1_score)\n",
    "print(\"Accuracy: \", accuracy)"
   ]
  },
  {
   "attachments": {},
   "cell_type": "markdown",
   "metadata": {},
   "source": [
    "<p> The code block above calculates the precision, recall, F1-score and accuracy of the Simplest Neighbour Algorithm using confusion matrix. </p>"
   ]
  },
  {
   "attachments": {},
   "cell_type": "markdown",
   "metadata": {},
   "source": [
    "### Euclidean Distance\n",
    "<p> Euclidean Distance refers to the shortest points between two data points. It is the default distance measure used in K-Nearest Neighbour algorithm."
   ]
  },
  {
   "cell_type": "code",
   "execution_count": 25,
   "metadata": {},
   "outputs": [],
   "source": [
    "q =2 # euclidean distance\n",
    "y_pred = nearest_neighbour(x_train, x_test, y_train, q)"
   ]
  },
  {
   "attachments": {},
   "cell_type": "markdown",
   "metadata": {},
   "source": [
    "<p> Simplest Neighbour Algorithm is taking the Euclidian Distance to measure the distance between the predictors and the target variables.</p>"
   ]
  },
  {
   "cell_type": "code",
   "execution_count": 26,
   "metadata": {},
   "outputs": [
    {
     "name": "stdout",
     "output_type": "stream",
     "text": [
      "[1, 0, 0, 1, 1, 0, 0, 0, 0, 0, 1, 1, 1, 1, 0, 0, 0, 0, 0, 0, 0, 1, 1, 0, 0, 0, 1, 1, 0, 0, 0, 0, 0, 1, 0, 0, 0, 0, 0, 1, 0, 0, 0, 0, 1, 0, 1, 0, 0, 0, 0, 1, 0, 0, 0, 1, 0, 1, 0, 0, 0, 0, 0, 1, 0, 0, 0, 0, 1]\n"
     ]
    }
   ],
   "source": [
    "print(y_pred)"
   ]
  },
  {
   "cell_type": "code",
   "execution_count": 27,
   "metadata": {},
   "outputs": [],
   "source": [
    "x1 = pd.DataFrame({'True': y_test, 'Predicted': y_pred})\n",
    "x2 = pd.crosstab(x1['True'], x1['Predicted'])"
   ]
  },
  {
   "cell_type": "code",
   "execution_count": 28,
   "metadata": {},
   "outputs": [
    {
     "name": "stdout",
     "output_type": "stream",
     "text": [
      "    True  Predicted\n",
      "0      1          1\n",
      "1      0          0\n",
      "2      0          0\n",
      "3      1          1\n",
      "4      1          1\n",
      "..   ...        ...\n",
      "64     0          0\n",
      "65     0          0\n",
      "66     1          0\n",
      "67     0          0\n",
      "68     1          1\n",
      "\n",
      "[69 rows x 2 columns]\n"
     ]
    }
   ],
   "source": [
    "print(x1)"
   ]
  },
  {
   "cell_type": "code",
   "execution_count": 29,
   "metadata": {},
   "outputs": [
    {
     "name": "stdout",
     "output_type": "stream",
     "text": [
      "Predicted   0   1\n",
      "True             \n",
      "0          37   0\n",
      "1          12  20\n"
     ]
    }
   ],
   "source": [
    "print(x2)"
   ]
  },
  {
   "cell_type": "code",
   "execution_count": 30,
   "metadata": {},
   "outputs": [
    {
     "data": {
      "image/png": "[encoded data removed]",
      "text/plain": [
       "<Figure size 640x480 with 2 Axes>"
      ]
     },
     "metadata": {},
     "output_type": "display_data"
    }
   ],
   "source": [
    "# create a heatmap for the confusion matrix\n",
    "import seaborn as sns\n",
    "import matplotlib.pyplot as plt\n",
    "sns.heatmap(x2, annot=True, cmap='Blues')\n",
    "plt.show()"
   ]
  },
  {
   "cell_type": "code",
   "execution_count": 31,
   "metadata": {},
   "outputs": [
    {
     "name": "stdout",
     "output_type": "stream",
     "text": [
      "TP:  37\n",
      "TN:  20\n",
      "FP:  12\n",
      "FN:  0\n"
     ]
    }
   ],
   "source": [
    "# get the TP, TN, FP, FN\n",
    "TP = x2.iloc[0,0]\n",
    "TN = x2.iloc[1,1]\n",
    "FP = x2.iloc[1,0]\n",
    "FN = x2.iloc[0,1]\n",
    "print(\"TP: \", TP)\n",
    "print(\"TN: \", TN)\n",
    "print(\"FP: \", FP)\n",
    "print(\"FN: \", FN)"
   ]
  },
  {
   "cell_type": "code",
   "execution_count": 32,
   "metadata": {},
   "outputs": [
    {
     "name": "stdout",
     "output_type": "stream",
     "text": [
      "Precision:  0.7551020408163265\n",
      "Recall:  1.0\n",
      "F1-Score:  0.8604651162790697\n",
      "Accuracy:  0.8260869565217391\n"
     ]
    }
   ],
   "source": [
    "# calcuate the precision, recall, f1-score and accuracy\n",
    "precision = TP/(TP+FP)\n",
    "recall = TP/(TP+FN)\n",
    "f1_score = 2*(precision*recall)/(precision+recall)\n",
    "accuracy = (TP+TN)/(TP+TN+FP+FN)\n",
    "print(\"Precision: \", precision)\n",
    "print(\"Recall: \", recall)\n",
    "print(\"F1-Score: \", f1_score)\n",
    "print(\"Accuracy: \", accuracy)"
   ]
  },
  {
   "attachments": {},
   "cell_type": "markdown",
   "metadata": {},
   "source": [
    "<p> The code block above calculates the precison, recall, F1-score and accuracy using the confusion matrix. The results are displayed above. </p>"
   ]
  },
  {
   "attachments": {},
   "cell_type": "markdown",
   "metadata": {},
   "source": [
    "# Part 1: B\n",
    "***"
   ]
  },
  {
   "attachments": {},
   "cell_type": "markdown",
   "metadata": {},
   "source": [
    "### Calculate q from 1 - 20\n",
    "<p> The next task was to measure the accuracy, precision, recall and f1-score based on q values from 1-20. Report the results in a chart and evaluate which of the q values lead to the best accuracy on the test set. </p>"
   ]
  },
  {
   "cell_type": "code",
   "execution_count": 33,
   "metadata": {},
   "outputs": [],
   "source": [
    "# create a list to store values\n",
    "accuracy_list = []\n",
    "precision_list = []\n",
    "recall_list = []\n",
    "f1_score_list = []"
   ]
  },
  {
   "attachments": {},
   "cell_type": "markdown",
   "metadata": {},
   "source": [
    "<p> Creating a list for measuring the accuracy, precision, recall and f1-score metrics. </p>"
   ]
  },
  {
   "cell_type": "code",
   "execution_count": 34,
   "metadata": {},
   "outputs": [],
   "source": [
    "for i in range(1,21):\n",
    "    y_pred = nearest_neighbour(x_train, x_test, y_train, i)\n",
    "    x1 = pd.DataFrame({'True': y_test, 'Predicted': y_pred})\n",
    "    x2 = pd.crosstab(x1['True'], x1['Predicted'])\n",
    "    # get the TP, TN, FP, FN\n",
    "    TP = x2.iloc[0,0]\n",
    "    TN = x2.iloc[1,1]\n",
    "    FP = x2.iloc[1,0]\n",
    "    FN = x2.iloc[0,1]\n",
    "    # calcuate the precision, recall, f1-score and accuracy\n",
    "    precision = TP/(TP+FP)\n",
    "    recall = TP/(TP+FN)\n",
    "    f1_score = 2*(precision*recall)/(precision+recall)\n",
    "    accuracy = (TP+TN)/(TP+TN+FP+FN)\n",
    "    accuracy_list.append(accuracy)\n",
    "    precision_list.append(precision)\n",
    "    recall_list.append(recall)\n",
    "    f1_score_list.append(f1_score)"
   ]
  },
  {
   "attachments": {},
   "cell_type": "markdown",
   "metadata": {},
   "source": [
    "<p> The code block above executes a for loop that goes through all the values of q from 1-20. On each iterations it calls over the nearest neighbour algorithm to get the predictions. It then creates a dataframe for storing the true and predicted labels. It also creates a confusion matrix using the crosstab function. After extracting the information from the confusion matrix it then calculates all the evaluation metrics. </p>"
   ]
  },
  {
   "cell_type": "code",
   "execution_count": 35,
   "metadata": {},
   "outputs": [],
   "source": [
    "# crate a result table to store the values\n",
    "result = pd.DataFrame({'q': range(1,21),'Accuracy': accuracy_list, 'Precision': precision_list, 'Recall': recall_list, 'F1-Score': f1_score_list})"
   ]
  },
  {
   "attachments": {},
   "cell_type": "markdown",
   "metadata": {},
   "source": [
    "<p> The result of the evaluation metrics is stored on a pandas dataframe with the corresponding variable names</p>"
   ]
  },
  {
   "cell_type": "code",
   "execution_count": 36,
   "metadata": {},
   "outputs": [
    {
     "data": {
      "text/html": [
       "<div>\n",
       "<style scoped>\n",
       "    .dataframe tbody tr th:only-of-type {\n",
       "        vertical-align: middle;\n",
       "    }\n",
       "\n",
       "    .dataframe tbody tr th {\n",
       "        vertical-align: top;\n",
       "    }\n",
       "\n",
       "    .dataframe thead th {\n",
       "        text-align: right;\n",
       "    }\n",
       "</style>\n",
       "<table border=\"1\" class=\"dataframe\">\n",
       "  <thead>\n",
       "    <tr style=\"text-align: right;\">\n",
       "      <th></th>\n",
       "      <th>q</th>\n",
       "      <th>Accuracy</th>\n",
       "      <th>Precision</th>\n",
       "      <th>Recall</th>\n",
       "      <th>F1-Score</th>\n",
       "    </tr>\n",
       "  </thead>\n",
       "  <tbody>\n",
       "    <tr>\n",
       "      <th>0</th>\n",
       "      <td>1</td>\n",
       "      <td>0.927536</td>\n",
       "      <td>0.900000</td>\n",
       "      <td>0.972973</td>\n",
       "      <td>0.935065</td>\n",
       "    </tr>\n",
       "    <tr>\n",
       "      <th>1</th>\n",
       "      <td>2</td>\n",
       "      <td>0.826087</td>\n",
       "      <td>0.755102</td>\n",
       "      <td>1.000000</td>\n",
       "      <td>0.860465</td>\n",
       "    </tr>\n",
       "    <tr>\n",
       "      <th>2</th>\n",
       "      <td>3</td>\n",
       "      <td>0.869565</td>\n",
       "      <td>0.818182</td>\n",
       "      <td>0.972973</td>\n",
       "      <td>0.888889</td>\n",
       "    </tr>\n",
       "    <tr>\n",
       "      <th>3</th>\n",
       "      <td>4</td>\n",
       "      <td>0.753623</td>\n",
       "      <td>0.692308</td>\n",
       "      <td>0.972973</td>\n",
       "      <td>0.808989</td>\n",
       "    </tr>\n",
       "    <tr>\n",
       "      <th>4</th>\n",
       "      <td>5</td>\n",
       "      <td>0.782609</td>\n",
       "      <td>0.750000</td>\n",
       "      <td>0.891892</td>\n",
       "      <td>0.814815</td>\n",
       "    </tr>\n",
       "    <tr>\n",
       "      <th>5</th>\n",
       "      <td>6</td>\n",
       "      <td>0.739130</td>\n",
       "      <td>0.686275</td>\n",
       "      <td>0.945946</td>\n",
       "      <td>0.795455</td>\n",
       "    </tr>\n",
       "    <tr>\n",
       "      <th>6</th>\n",
       "      <td>7</td>\n",
       "      <td>0.724638</td>\n",
       "      <td>0.695652</td>\n",
       "      <td>0.864865</td>\n",
       "      <td>0.771084</td>\n",
       "    </tr>\n",
       "    <tr>\n",
       "      <th>7</th>\n",
       "      <td>8</td>\n",
       "      <td>0.695652</td>\n",
       "      <td>0.660000</td>\n",
       "      <td>0.891892</td>\n",
       "      <td>0.758621</td>\n",
       "    </tr>\n",
       "    <tr>\n",
       "      <th>8</th>\n",
       "      <td>9</td>\n",
       "      <td>0.637681</td>\n",
       "      <td>0.630435</td>\n",
       "      <td>0.783784</td>\n",
       "      <td>0.698795</td>\n",
       "    </tr>\n",
       "    <tr>\n",
       "      <th>9</th>\n",
       "      <td>10</td>\n",
       "      <td>0.666667</td>\n",
       "      <td>0.640000</td>\n",
       "      <td>0.864865</td>\n",
       "      <td>0.735632</td>\n",
       "    </tr>\n",
       "    <tr>\n",
       "      <th>10</th>\n",
       "      <td>11</td>\n",
       "      <td>0.681159</td>\n",
       "      <td>0.666667</td>\n",
       "      <td>0.810811</td>\n",
       "      <td>0.731707</td>\n",
       "    </tr>\n",
       "    <tr>\n",
       "      <th>11</th>\n",
       "      <td>12</td>\n",
       "      <td>0.652174</td>\n",
       "      <td>0.638298</td>\n",
       "      <td>0.810811</td>\n",
       "      <td>0.714286</td>\n",
       "    </tr>\n",
       "    <tr>\n",
       "      <th>12</th>\n",
       "      <td>13</td>\n",
       "      <td>0.666667</td>\n",
       "      <td>0.652174</td>\n",
       "      <td>0.810811</td>\n",
       "      <td>0.722892</td>\n",
       "    </tr>\n",
       "    <tr>\n",
       "      <th>13</th>\n",
       "      <td>14</td>\n",
       "      <td>0.681159</td>\n",
       "      <td>0.653061</td>\n",
       "      <td>0.864865</td>\n",
       "      <td>0.744186</td>\n",
       "    </tr>\n",
       "    <tr>\n",
       "      <th>14</th>\n",
       "      <td>15</td>\n",
       "      <td>0.695652</td>\n",
       "      <td>0.681818</td>\n",
       "      <td>0.810811</td>\n",
       "      <td>0.740741</td>\n",
       "    </tr>\n",
       "    <tr>\n",
       "      <th>15</th>\n",
       "      <td>16</td>\n",
       "      <td>0.681159</td>\n",
       "      <td>0.653061</td>\n",
       "      <td>0.864865</td>\n",
       "      <td>0.744186</td>\n",
       "    </tr>\n",
       "    <tr>\n",
       "      <th>16</th>\n",
       "      <td>17</td>\n",
       "      <td>0.681159</td>\n",
       "      <td>0.666667</td>\n",
       "      <td>0.810811</td>\n",
       "      <td>0.731707</td>\n",
       "    </tr>\n",
       "    <tr>\n",
       "      <th>17</th>\n",
       "      <td>18</td>\n",
       "      <td>0.681159</td>\n",
       "      <td>0.653061</td>\n",
       "      <td>0.864865</td>\n",
       "      <td>0.744186</td>\n",
       "    </tr>\n",
       "    <tr>\n",
       "      <th>18</th>\n",
       "      <td>19</td>\n",
       "      <td>0.652174</td>\n",
       "      <td>0.651163</td>\n",
       "      <td>0.756757</td>\n",
       "      <td>0.700000</td>\n",
       "    </tr>\n",
       "    <tr>\n",
       "      <th>19</th>\n",
       "      <td>20</td>\n",
       "      <td>0.637681</td>\n",
       "      <td>0.625000</td>\n",
       "      <td>0.810811</td>\n",
       "      <td>0.705882</td>\n",
       "    </tr>\n",
       "  </tbody>\n",
       "</table>\n",
       "</div>"
      ],
      "text/plain": [
       "     q  Accuracy  Precision    Recall  F1-Score\n",
       "0    1  0.927536   0.900000  0.972973  0.935065\n",
       "1    2  0.826087   0.755102  1.000000  0.860465\n",
       "2    3  0.869565   0.818182  0.972973  0.888889\n",
       "3    4  0.753623   0.692308  0.972973  0.808989\n",
       "4    5  0.782609   0.750000  0.891892  0.814815\n",
       "5    6  0.739130   0.686275  0.945946  0.795455\n",
       "6    7  0.724638   0.695652  0.864865  0.771084\n",
       "7    8  0.695652   0.660000  0.891892  0.758621\n",
       "8    9  0.637681   0.630435  0.783784  0.698795\n",
       "9   10  0.666667   0.640000  0.864865  0.735632\n",
       "10  11  0.681159   0.666667  0.810811  0.731707\n",
       "11  12  0.652174   0.638298  0.810811  0.714286\n",
       "12  13  0.666667   0.652174  0.810811  0.722892\n",
       "13  14  0.681159   0.653061  0.864865  0.744186\n",
       "14  15  0.695652   0.681818  0.810811  0.740741\n",
       "15  16  0.681159   0.653061  0.864865  0.744186\n",
       "16  17  0.681159   0.666667  0.810811  0.731707\n",
       "17  18  0.681159   0.653061  0.864865  0.744186\n",
       "18  19  0.652174   0.651163  0.756757  0.700000\n",
       "19  20  0.637681   0.625000  0.810811  0.705882"
      ]
     },
     "execution_count": 36,
     "metadata": {},
     "output_type": "execute_result"
    }
   ],
   "source": [
    "result"
   ]
  },
  {
   "cell_type": "code",
   "execution_count": 37,
   "metadata": {},
   "outputs": [
    {
     "data": {
      "image/png": "[encoded data removed]",
      "text/plain": [
       "<Figure size 640x480 with 1 Axes>"
      ]
     },
     "metadata": {},
     "output_type": "display_data"
    }
   ],
   "source": [
    "#plot the accuracy, precision, recall and f1-score against the value of p\n",
    "import matplotlib.pyplot as plt\n",
    "plt.plot(result['q'], result['Accuracy'], label='Accuracy', marker = 'o')\n",
    "plt.plot(result['q'], result['Precision'], label='Precision',marker = 'v')\n",
    "plt.plot(result['q'], result['Recall'], label='Recall', marker = 's')\n",
    "plt.plot(result['q'], result['F1-Score'], label='F1-Score',marker = 'd')\n",
    "plt.xlabel('q')\n",
    "plt.ylabel('Value')\n",
    "plt.legend()\n",
    "plt.show()\n"
   ]
  },
  {
   "attachments": {},
   "cell_type": "markdown",
   "metadata": {},
   "source": [
    "### Summary\n",
    "<p> The graph above displays the score on evaluation metrics based on the power of q from 1-20. We can clearly see that from the graph that as the amount of q increases the metrics rate decreases. This shows that the optimum power of q for the given task should be 1 which means the Minkowski Distance should be measured in Manhattan. The best accuracy throughout was 0.927536 which was achieved when power of q was 1. This pattern can also be observed with other metrics. </p>"
   ]
  }
 ],
 "metadata": {
  "kernelspec": {
   "display_name": "DM",
   "language": "python",
   "name": "python3"
  },
  "language_info": {
   "codemirror_mode": {
    "name": "ipython",
    "version": 3
   },
   "file_extension": ".py",
   "mimetype": "text/x-python",
   "name": "python",
   "nbconvert_exporter": "python",
   "pygments_lexer": "ipython3",
   "version": "3.9.16"
  },
  "orig_nbformat": 4
 },
 "nbformat": 4,
 "nbformat_minor": 2
}
